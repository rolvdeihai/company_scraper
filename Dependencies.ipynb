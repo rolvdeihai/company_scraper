{
 "cells": [
  {
   "cell_type": "code",
   "execution_count": null,
   "id": "4b3d6414-e3e8-4be6-9e4c-04d88db0cabb",
   "metadata": {},
   "outputs": [],
   "source": [
    "!pip install selenium\n",
    "!pip install webdriver_manager\n",
    "!pip install openpyxl\n",
    "!pip install undetected-chromedriver\n",
    "!pip install ollama\n",
    "!pip install yfinance\n",
    "!pip install pandas\n",
    "!pip install streamlit"
   ]
  },
  {
   "cell_type": "code",
   "execution_count": null,
   "id": "6c32a95a-3104-4a1f-833f-4b4e08ef3118",
   "metadata": {},
   "outputs": [],
   "source": []
  }
 ],
 "metadata": {
  "kernelspec": {
   "display_name": "",
   "name": ""
  },
  "language_info": {
   "name": ""
  }
 },
 "nbformat": 4,
 "nbformat_minor": 5
}
